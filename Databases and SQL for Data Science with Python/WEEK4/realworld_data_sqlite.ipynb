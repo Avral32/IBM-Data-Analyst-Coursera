{
 "cells": [
  {
   "cell_type": "code",
   "execution_count": 3,
   "metadata": {},
   "outputs": [
    {
     "name": "stderr",
     "output_type": "stream",
     "text": [
      "c:\\users\\sidik savutjan\\appdata\\local\\programs\\python\\python37-32\\lib\\site-packages\\pandas\\core\\generic.py:2882: UserWarning: The spaces in these column names will not be changed. In pandas versions < 0.14, spaces were converted to underscores.\n",
      "  method=method,\n"
     ]
    }
   ],
   "source": [
    "import csv, sqlite3\n",
    "import pandas as pd\n",
    "import sqlalchemy\n",
    "\n",
    "conn = sqlite3.connect(\"RealWorldData.db\")\n",
    "cur = conn.cursor()\n",
    "\n",
    "df = pd.read_csv(\"ChicagoSchools.csv\")\n",
    "df.to_sql(\"CHICAGO_SCHOOLS\", con=conn, if_exists='replace', index=False, method=None)\n",
    "\n",
    "co\n",
    "#%load_ext sql\n",
    "\n",
    "#%sql sqlite:///RealWorldData.db"
   ]
  },
  {
   "cell_type": "markdown",
   "metadata": {},
   "source": [
    "TO analyze the data stored in a `.csv` file, first we need to store the data in the database just created, i.e. `RealWorldData.db`. <br>\n",
    "For this, we can use the `df.to_sql()` to convert the `.csv` file to a table in `sqlite`."
   ]
  },
  {
   "cell_type": "code",
   "execution_count": 23,
   "metadata": {},
   "outputs": [],
   "source": [
    "df = pd.read_csv(\"chicago.csv\")\n"
   ]
  },
  {
   "cell_type": "code",
   "execution_count": 17,
   "metadata": {},
   "outputs": [],
   "source": [
    "#%sql SELECT * FROM ChicagoSCHOOLS;"
   ]
  }
 ],
 "metadata": {
  "kernelspec": {
   "display_name": "Python 3",
   "language": "python",
   "name": "python3"
  },
  "language_info": {
   "codemirror_mode": {
    "name": "ipython",
    "version": 3
   },
   "file_extension": ".py",
   "mimetype": "text/x-python",
   "name": "python",
   "nbconvert_exporter": "python",
   "pygments_lexer": "ipython3",
   "version": "3.7.6"
  }
 },
 "nbformat": 4,
 "nbformat_minor": 4
}
