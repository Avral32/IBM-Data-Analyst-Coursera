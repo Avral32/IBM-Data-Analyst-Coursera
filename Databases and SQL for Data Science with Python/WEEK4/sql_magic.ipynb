{
 "cells": [
  {
   "cell_type": "code",
   "execution_count": 91,
   "metadata": {},
   "outputs": [],
   "source": [
    "import ibm_db\n",
    "import ibm_db_sa\n",
    "import sqlalchemy\n",
    "import pandas as pd\n",
    "\n",
    "%reload_ext sql\n",
    "\n",
    "%sql ibm_db_sa://wsy87409:3jO6uNH6THqWZg7O@55fbc997-9266-4331-afd3-888b05e734c0.bs2io90l08kqb1od8lcg.databases.appdomain.cloud:31929/bludb;security=SSL\n",
    "            \n"
   ]
  },
  {
   "cell_type": "markdown",
   "metadata": {},
   "source": [
    "<font size=\"3\">For conveience, we can add double percent `%%sql` sign at the top of a cell to indicate\n",
    "we want to the entire cell to b treated as SQL."
   ]
  },
  {
   "cell_type": "code",
   "execution_count": 47,
   "metadata": {},
   "outputs": [
    {
     "name": "stdout",
     "output_type": "stream",
     "text": [
      " * ibm_db_sa://wsy87409:***@55fbc997-9266-4331-afd3-888b05e734c0.bs2io90l08kqb1od8lcg.databases.appdomain.cloud:31929/bludb;security=SSL\n",
      "Done.\n",
      "Done.\n",
      "99 rows affected.\n"
     ]
    },
    {
     "data": {
      "text/plain": [
       "[]"
      ]
     },
     "execution_count": 47,
     "metadata": {},
     "output_type": "execute_result"
    }
   ],
   "source": [
    "%%sql\n",
    "\n",
    "\n",
    "DROP TABLE INTERNATIONAL_STUDENT_TEST_SCORES;\n",
    "\n",
    "CREATE TABLE INTERNATIONAL_STUDENT_TEST_SCORES (\n",
    "                                                country VARCHAR(50),\n",
    "                                                first_name VARCHAR(50),\n",
    "                                                last_name VARCHAR(50),\n",
    "                                                test_score INT\n",
    "                                                );\n",
    "\n",
    "INSERT INTO INTERNATIONAL_STUDENT_TEST_SCORES VALUES \n",
    "    ('United States', 'Marshall', 'Bernadot', 54),\n",
    "    ('Ghana', 'Celinda', 'Malkin', 51),\n",
    "    ('Ukraine', 'Guillermo', 'Furze', 53),\n",
    "    ('Greece', 'Aharon', 'Tunnow', 48),\n",
    "    ('Russia', 'Bail', 'Goodwin', 46),\n",
    "    ('Poland', 'Cole', 'Winteringham', 49),\n",
    "    ('Sweden', 'Emlyn', 'Erricker', 55),\n",
    "    ('Russia', 'Cathee', 'Sivewright', 49),\n",
    "    ('China', 'Barny', 'Ingerson', 57),\n",
    "    ('Uganda', 'Sharla', 'Papaccio', 55),\n",
    "    ('China', 'Stella', 'Youens', 51),\n",
    "    ('Poland', 'Julio', 'Buesden', 48),\n",
    "    ('United States', 'Tiffie', 'Cosely', 58),\n",
    "    ('Poland', 'Auroora', 'Stiffell', 45),\n",
    "    ('China', 'Clarita', 'Huet', 52),\n",
    "    ('Poland', 'Shannon', 'Goulden', 45),\n",
    "    ('Philippines', 'Emylee', 'Privost', 50),\n",
    "    ('France', 'Madelina', 'Burk', 49),\n",
    "    ('China', 'Saunderson', 'Root', 58),\n",
    "    ('Indonesia', 'Bo', 'Waring', 55),\n",
    "    ('China', 'Hollis', 'Domotor', 45),\n",
    "    ('Russia', 'Robbie', 'Collip', 46),\n",
    "    ('Philippines', 'Davon', 'Donisi', 46),\n",
    "    ('China', 'Cristabel', 'Radeliffe', 48),\n",
    "    ('China', 'Wallis', 'Bartleet', 58),\n",
    "    ('Moldova', 'Arleen', 'Stailey', 38),\n",
    "    ('Ireland', 'Mendel', 'Grumble', 58),\n",
    "    ('China', 'Sallyann', 'Exley', 51),\n",
    "    ('Mexico', 'Kain', 'Swaite', 46),\n",
    "    ('Indonesia', 'Alonso', 'Bulteel', 45),\n",
    "    ('Armenia', 'Anatol', 'Tankus', 51),\n",
    "    ('Indonesia', 'Coralyn', 'Dawkins', 48),\n",
    "    ('China', 'Deanne', 'Edwinson', 45),\n",
    "    ('China', 'Georgiana', 'Epple', 51),\n",
    "    ('Portugal', 'Bartlet', 'Breese', 56),\n",
    "    ('Azerbaijan', 'Idalina', 'Lukash', 50),\n",
    "    ('France', 'Livvie', 'Flory', 54),\n",
    "    ('Malaysia', 'Nonie', 'Borit', 48),\n",
    "    ('Indonesia', 'Clio', 'Mugg', 47),\n",
    "    ('Brazil', 'Westley', 'Measor', 48),\n",
    "    ('Philippines', 'Katrinka', 'Sibbert', 51),\n",
    "    ('Poland', 'Valentia', 'Mounch', 50),\n",
    "    ('Norway', 'Sheilah', 'Hedditch', 53),\n",
    "    ('Papua New Guinea', 'Itch', 'Jubb', 50),\n",
    "    ('Latvia', 'Stesha', 'Garnson', 53),\n",
    "    ('Canada', 'Cristionna', 'Wadmore', 46),\n",
    "    ('China', 'Lianna', 'Gatward', 43),\n",
    "    ('Guatemala', 'Tanney', 'Vials', 48),\n",
    "    ('France', 'Alma', 'Zavittieri', 44),\n",
    "    ('China', 'Alvira', 'Tamas', 50),\n",
    "    ('United States', 'Shanon', 'Peres', 45),\n",
    "    ('Sweden', 'Maisey', 'Lynas', 53),\n",
    "    ('Indonesia', 'Kip', 'Hothersall', 46),\n",
    "    ('China', 'Cash', 'Landis', 48),\n",
    "    ('Panama', 'Kennith', 'Digance', 45),\n",
    "    ('China', 'Ulberto', 'Riggeard', 48),\n",
    "    ('Switzerland', 'Judy', 'Gilligan', 49),\n",
    "    ('Philippines', 'Tod', 'Trevaskus', 52),\n",
    "    ('Brazil', 'Herold', 'Heggs', 44),\n",
    "    ('Latvia', 'Verney', 'Note', 50),\n",
    "    ('Poland', 'Temp', 'Ribey', 50),\n",
    "    ('China', 'Conroy', 'Egdal', 48),\n",
    "    ('Japan', 'Gabie', 'Alessandone', 47),\n",
    "    ('Ukraine', 'Devlen', 'Chaperlin', 54),\n",
    "    ('France', 'Babbette', 'Turner', 51),\n",
    "    ('Czech Republic', 'Virgil', 'Scotney', 52),\n",
    "    ('Tajikistan', 'Zorina', 'Bedow', 49),\n",
    "    ('China', 'Aidan', 'Rudeyeard', 50),\n",
    "    ('Ireland', 'Saunder', 'MacLice', 48),\n",
    "    ('France', 'Waly', 'Brunstan', 53),\n",
    "    ('China', 'Gisele', 'Enns', 52),\n",
    "    ('Peru', 'Mina', 'Winchester', 48),\n",
    "    ('Japan', 'Torie', 'MacShirrie', 50),\n",
    "    ('Russia', 'Benjamen', 'Kenford', 51),\n",
    "    ('China', 'Etan', 'Burn', 53),\n",
    "    ('Russia', 'Merralee', 'Chaperlin', 38),\n",
    "    ('Indonesia', 'Lanny', 'Malam', 49),\n",
    "    ('Canada', 'Wilhelm', 'Deeprose', 54),\n",
    "    ('Czech Republic', 'Lari', 'Hillhouse', 48),\n",
    "    ('China', 'Ossie', 'Woodley', 52),\n",
    "    ('Macedonia', 'April', 'Tyer', 50),\n",
    "    ('Vietnam', 'Madelon', 'Dansey', 53),\n",
    "    ('Ukraine', 'Korella', 'McNamee', 52),\n",
    "    ('Jamaica', 'Linnea', 'Cannam', 43),\n",
    "    ('China', 'Mart', 'Coling', 52),\n",
    "    ('Indonesia', 'Marna', 'Causbey', 47),\n",
    "    ('China', 'Berni', 'Daintier', 55),\n",
    "    ('Poland', 'Cynthia', 'Hassell', 49),\n",
    "    ('Canada', 'Carma', 'Schule', 49),\n",
    "    ('Indonesia', 'Malia', 'Blight', 48),\n",
    "    ('China', 'Paulo', 'Seivertsen', 47),\n",
    "    ('Niger', 'Kaylee', 'Hearley', 54),\n",
    "    ('Japan', 'Maure', 'Jandak', 46),\n",
    "    ('Argentina', 'Foss', 'Feavers', 45),\n",
    "    ('Venezuela', 'Ron', 'Leggitt', 60),\n",
    "    ('Russia', 'Flint', 'Gokes', 40),\n",
    "    ('China', 'Linet', 'Conelly', 52),\n",
    "    ('Philippines', 'Nikolas', 'Birtwell', 57),\n",
    "    ('Australia', 'Eduard', 'Leipelt', 53)\n",
    "\n",
    "    "
   ]
  },
  {
   "cell_type": "markdown",
   "metadata": {},
   "source": [
    "<font size=\"3\"> Using Python Variables in your SQL STATEMENTS</font> <br>\n",
    "\n",
    "<font size=\"2\"> You can use Python variables in your `SQL` statements by adding \":\" prefix to your python variable names </font> <br>\n",
    "\n",
    "<font size=\"2\"> For example, if we have a python variable with a value of \"Canada\", we can use this variable in `SQL` to find all the rows of the students from Canada.\n"
   ]
  },
  {
   "cell_type": "code",
   "execution_count": 60,
   "metadata": {
    "scrolled": true
   },
   "outputs": [
    {
     "name": "stdout",
     "output_type": "stream",
     "text": [
      " * ibm_db_sa://wsy87409:***@55fbc997-9266-4331-afd3-888b05e734c0.bs2io90l08kqb1od8lcg.databases.appdomain.cloud:31929/bludb;security=SSL\n",
      "Done.\n"
     ]
    },
    {
     "data": {
      "text/html": [
       "<table>\n",
       "    <tr>\n",
       "        <th>country</th>\n",
       "        <th>first_name</th>\n",
       "        <th>last_name</th>\n",
       "        <th>test_score</th>\n",
       "    </tr>\n",
       "    <tr>\n",
       "        <td>Canada</td>\n",
       "        <td>Cristionna</td>\n",
       "        <td>Wadmore</td>\n",
       "        <td>46</td>\n",
       "    </tr>\n",
       "    <tr>\n",
       "        <td>Canada</td>\n",
       "        <td>Wilhelm</td>\n",
       "        <td>Deeprose</td>\n",
       "        <td>54</td>\n",
       "    </tr>\n",
       "    <tr>\n",
       "        <td>Canada</td>\n",
       "        <td>Carma</td>\n",
       "        <td>Schule</td>\n",
       "        <td>49</td>\n",
       "    </tr>\n",
       "</table>"
      ],
      "text/plain": [
       "[('Canada', 'Cristionna', 'Wadmore', 46),\n",
       " ('Canada', 'Wilhelm', 'Deeprose', 54),\n",
       " ('Canada', 'Carma', 'Schule', 49)]"
      ]
     },
     "execution_count": 60,
     "metadata": {},
     "output_type": "execute_result"
    }
   ],
   "source": [
    "country = \"Canada\"\n",
    "%sql SELECT *  FROM INTERNATIONAL_STUDENT_TEST_SCORES WHERE country = :country;"
   ]
  },
  {
   "cell_type": "markdown",
   "metadata": {},
   "source": [
    "<font size=\"3\">Assigning the query results to `Python` variables <br>\n",
    "<font size=\"2\"> For example, we can assign the result of the query of the *test_score* to a new variable\n",
    "*test_score_dist* using the `= operator`.\n",
    "\n"
   ]
  },
  {
   "cell_type": "code",
   "execution_count": 111,
   "metadata": {},
   "outputs": [
    {
     "name": "stdout",
     "output_type": "stream",
     "text": [
      " * ibm_db_sa://wsy87409:***@55fbc997-9266-4331-afd3-888b05e734c0.bs2io90l08kqb1od8lcg.databases.appdomain.cloud:31929/bludb;security=SSL\n",
      "Done.\n"
     ]
    },
    {
     "data": {
      "image/png": "[encoded data removed]",
      "text/plain": [
       "<Figure size 432x288 with 1 Axes>"
      ]
     },
     "metadata": {
      "needs_background": "light"
     },
     "output_type": "display_data"
    }
   ],
   "source": [
    "import seaborn as sb\n",
    "\n",
    "test_score_dist =  %sql SELECT  test_score AS Test_Score, COUNT(*) as \"Frequency\" \\\n",
    "    FROM INTERNATIONAL_STUDENT_TEST_SCORES \\\n",
    "        GROUP BY test_score;\n",
    "\n",
    "df = test_score_dist.DataFrame()\n",
    "\n",
    "\n",
    "plot = sb.barplot(data = df, x=\"test_score\", y= \"frequency\")"
   ]
  }
 ],
 "metadata": {
  "kernelspec": {
   "display_name": "Python 3",
   "language": "python",
   "name": "python3"
  },
  "language_info": {
   "codemirror_mode": {
    "name": "ipython",
    "version": 3
   },
   "file_extension": ".py",
   "mimetype": "text/x-python",
   "name": "python",
   "nbconvert_exporter": "python",
   "pygments_lexer": "ipython3",
   "version": "3.7.6"
  }
 },
 "nbformat": 4,
 "nbformat_minor": 4
}
