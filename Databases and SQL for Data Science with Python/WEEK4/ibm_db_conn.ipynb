{
 "cells": [
  {
   "cell_type": "markdown",
   "metadata": {},
   "source": [
    "<font size=\"3\"> Create IBM_DB Connection Credentials</font>"
   ]
  },
  {
   "cell_type": "code",
   "execution_count": 68,
   "metadata": {},
   "outputs": [],
   "source": [
    "import ibm_db\n",
    "import pandas as pd\n",
    "\n",
    "# Create IBM_BD connnection credentials\n",
    "\n",
    "dsn_host =  \"55fbc997-9266-4331-afd3-888b05e734c0.bs2io90l08kqb1od8lcg.databases.appdomain.cloud\"\n",
    "dsn_user = \"wsy87409\"\n",
    "dsn_psw = \"3jO6uNH6THqWZg7O\"\n",
    "\n",
    "dsn_driver = \"{IBM DB2 ODBC DRIVER}\"\n",
    "dsn_database = \"bludb\"            \n",
    "dsn_port = \"31929\"              \n",
    "dsn_protocol = \"TCPIP\"          \n",
    "dsn_security = \"SSL\"     \n"
   ]
  },
  {
   "cell_type": "markdown",
   "metadata": {},
   "source": [
    "<font size=\"3\">Ibm_db API uses the IBM Data Server Driver for PDBC and CLI APIs to connect to IBM DB2 and informix</font> "
   ]
  },
  {
   "cell_type": "code",
   "execution_count": 69,
   "metadata": {},
   "outputs": [
    {
     "name": "stdout",
     "output_type": "stream",
     "text": [
      "connected to database: bludb \n",
      "user: wsy87409 \n",
      "hosename: 55fbc997-9266-4331-afd3-888b05e734c0.bs2io90l08kqb1od8lcg.databases.appdomain.cloud\n"
     ]
    }
   ],
   "source": [
    "dsn = (\n",
    "    \"DRIVER={0};\"\n",
    "    \"DATABASE={1};\"\n",
    "    \"HOSTNAME={2};\"\n",
    "    \"PORT={3};\"\n",
    "    \"PROTOCOL={4};\"\n",
    "    \"UID={5};\"\n",
    "    \"PWD={6};\"\n",
    "    \"SECURITY={7};\").format(dsn_driver, dsn_database, dsn_host, dsn_port, dsn_protocol, dsn_user, dsn_psw,dsn_security)\n",
    "\n",
    "#print(dsn)\n",
    "# Create a database connection\n",
    "try:\n",
    "    conn = ibm_db.connect(dsn, \"\",\"\")\n",
    "    print(\"connected to database:\", dsn_database, \"\\nuser:\", dsn_user, \"\\nhosename:\", dsn_host)\n",
    "\n",
    "except:\n",
    "    print(\"Unable to connect! \", ibm_db.conn_errormsg())"
   ]
  },
  {
   "cell_type": "markdown",
   "metadata": {},
   "source": [
    "<font size = \"3\"> Retrieve Metadata for the Dadabase Server </font> "
   ]
  },
  {
   "cell_type": "code",
   "execution_count": 35,
   "metadata": {
    "scrolled": true
   },
   "outputs": [
    {
     "name": "stdout",
     "output_type": "stream",
     "text": [
      "DBMS_NAME: DB2/LINUXX8664\n",
      "DBMS_VER: 11.05.0800\n",
      "DB_NAME: BLUDB\n"
     ]
    }
   ],
   "source": [
    "server = ibm_db.server_info(conn)\n",
    "\n",
    "print(\"DBMS_NAME:\", server.DBMS_NAME)\n",
    "print(\"DBMS_VER:\", server.DBMS_VER)\n",
    "print(\"DB_NAME:\", server.DB_NAME)"
   ]
  },
  {
   "cell_type": "markdown",
   "metadata": {},
   "source": [
    "<font size = \"3\"> Retrieve Metadate for the Database Client and Driver </font>"
   ]
  },
  {
   "cell_type": "code",
   "execution_count": 33,
   "metadata": {},
   "outputs": [
    {
     "name": "stdout",
     "output_type": "stream",
     "text": [
      "Drive_name:             DB2CLI.DLL\n",
      "Driver_ver:             11.01.0405\n",
      "Data_source_name:       BLUDB\n",
      "DRIVER_ODBC_VER:       03.51\n",
      "ODBC_VER:              03.01.0000\n",
      "ODBC_SQL_CONFORMANCE:  EXTENDED\n",
      "APPL_CODEPAGE:         1252\n",
      "CONN_CODEPAGE:         1208\n"
     ]
    }
   ],
   "source": [
    "client = ibm_db.client_info(conn)\n",
    "\n",
    "print(\"Drive_name:            \", client.DRIVER_NAME)\n",
    "print(\"Driver_ver:            \", client.DRIVER_VER)\n",
    "print(\"Data_source_name:      \", client.DATA_SOURCE_NAME)\n",
    "print (\"DRIVER_ODBC_VER:      \", client.DRIVER_ODBC_VER)\n",
    "print (\"ODBC_VER:             \", client.ODBC_VER)\n",
    "print (\"ODBC_SQL_CONFORMANCE: \", client.ODBC_SQL_CONFORMANCE)\n",
    "print (\"APPL_CODEPAGE:        \", client.APPL_CODEPAGE)\n",
    "print (\"CONN_CODEPAGE:        \", client.CONN_CODEPAGE)"
   ]
  },
  {
   "cell_type": "markdown",
   "metadata": {},
   "source": [
    "### Close the Connection"
   ]
  },
  {
   "cell_type": "code",
   "execution_count": 29,
   "metadata": {},
   "outputs": [
    {
     "data": {
      "text/plain": [
       "True"
      ]
     },
     "execution_count": 29,
     "metadata": {},
     "output_type": "execute_result"
    }
   ],
   "source": [
    "##ibm_db.close(conn)"
   ]
  },
  {
   "cell_type": "markdown",
   "metadata": {},
   "source": [
    "<font size = \"4\"> Create a table in the tatabase </font>\n",
    "\n",
    "1. <font size = \"3\"> Create the INSTRUCTOR table </font>"
   ]
  },
  {
   "cell_type": "code",
   "execution_count": 70,
   "metadata": {},
   "outputs": [],
   "source": [
    "# First drop the table INSTRUCTOR in case it exists\n",
    "drop_Stmt = ibm_db.exec_immediate(conn, \"DROP TABLE INSTRUCTOR\")\n",
    "\n",
    "# now create the INSTRUCTOR table\n",
    "create_query = \"CREATE TABLE INSTRUCTOR( \\\n",
    "                                        ID INTEGER PRIMARY KEY NOT NULL,\\\n",
    "                                        FNAME VARCHAR(20),\\\n",
    "                                        LNAME VARCHAR(20),\\\n",
    "                                        CITY VARCHAR(10),\\\n",
    "                                        CCODE CHARACTER(20)\\\n",
    "                                        )\"\n",
    "\n",
    "# now replaxe_with_name_of_execution_method\n",
    "creat_stmt = ibm_db.exec_immediate(conn, create_query)"
   ]
  },
  {
   "cell_type": "markdown",
   "metadata": {},
   "source": [
    "2. <font size = \"3\"> Insert data to the INSTRUCTOR table </font>"
   ]
  },
  {
   "cell_type": "code",
   "execution_count": 71,
   "metadata": {},
   "outputs": [],
   "source": [
    "insert_query = \"INSERT INTO INSTRUCTOR VALUES (1, 'Roqa', 'AHuja', 'Rome', 'Italy'),\\\n",
    "                                              (2, 'Raul', 'Auja', 'Ronto', 'USA')\"\n",
    "                                               \n",
    "\n",
    "insert_stmt = ibm_db.exec_immediate(conn, insert_query)"
   ]
  },
  {
   "cell_type": "code",
   "execution_count": null,
   "metadata": {},
   "outputs": [],
   "source": [
    "3. <font size = \"3\"> Select data from INSTRUCTOR table and fetch results </font>"
   ]
  },
  {
   "cell_type": "code",
   "execution_count": 72,
   "metadata": {
    "scrolled": true
   },
   "outputs": [
    {
     "name": "stdout",
     "output_type": "stream",
     "text": [
      "ID: 1 \n",
      "Lname: Roqa \n",
      "City: Rome\n",
      "ID: 2 \n",
      "Lname: Raul \n",
      "City: Ronto\n"
     ]
    }
   ],
   "source": [
    "select_query = \"SELECT * FROM INSTRUCTOR;\"\n",
    "\n",
    "select_stmt = ibm_db.exec_immediate(conn, select_query)\n",
    "\n",
    "#print(ibm_db.fetch_both(select_stmt))\n",
    "while ibm_db.fetch_row(select_stmt):\n",
    "    print(\"ID:\", ibm_db.result(select_stmt,0), \"\\nLname:\", ibm_db.result(select_stmt,1), \n",
    "          \"\\nCity:\", ibm_db.result(select_stmt,3))"
   ]
  },
  {
   "cell_type": "markdown",
   "metadata": {},
   "source": [
    "3. <font size = \"3\"> Retrieve data using Pandas </font>"
   ]
  },
  {
   "cell_type": "code",
   "execution_count": 76,
   "metadata": {},
   "outputs": [
    {
     "data": {
      "text/plain": [
       "True"
      ]
     },
     "execution_count": 76,
     "metadata": {},
     "output_type": "execute_result"
    }
   ],
   "source": [
    "import pandas as pd\n",
    "import ibm_db_dbi\n",
    "\n",
    "pdconn = ibm_db_dbi.Connection(conn)\n",
    "\n",
    "select_query = \"SELECT * FROM INSTRUCTOR;\"\n",
    "\n",
    "df = pd.read_sql(select_query, pdconn)\n",
    "df\n",
    "\n",
    "\n",
    "# and close the connections\n",
    "ibm_db.close(conn)"
   ]
  },
  {
   "cell_type": "code",
   "execution_count": null,
   "metadata": {},
   "outputs": [],
   "source": []
  }
 ],
 "metadata": {
  "kernelspec": {
   "display_name": "Python 3",
   "language": "python",
   "name": "python3"
  },
  "language_info": {
   "codemirror_mode": {
    "name": "ipython",
    "version": 3
   },
   "file_extension": ".py",
   "mimetype": "text/x-python",
   "name": "python",
   "nbconvert_exporter": "python",
   "pygments_lexer": "ipython3",
   "version": "3.7.6"
  }
 },
 "nbformat": 4,
 "nbformat_minor": 4
}
