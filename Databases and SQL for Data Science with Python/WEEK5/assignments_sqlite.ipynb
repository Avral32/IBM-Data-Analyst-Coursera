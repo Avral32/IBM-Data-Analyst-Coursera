{
 "cells": [
  {
   "cell_type": "markdown",
   "metadata": {},
   "source": [
    "<font size = \"3\"> Analyze the peerreview assignments using `SQLite` **DATABASE**"
   ]
  },
  {
   "cell_type": "code",
   "execution_count": 4,
   "metadata": {},
   "outputs": [
    {
     "name": "stderr",
     "output_type": "stream",
     "text": [
      "c:\\users\\sidik savutjan\\appdata\\local\\programs\\python\\python37-32\\lib\\site-packages\\pandas\\core\\generic.py:2882: UserWarning: The spaces in these column names will not be changed. In pandas versions < 0.14, spaces were converted to underscores.\n",
      "  method=method,\n"
     ]
    }
   ],
   "source": [
    "\n",
    "import sqlite3\n",
    "import pandas as pd\n",
    "\n",
    "conn = sqlite3.Connection(\"FinalDB.db\")\n",
    "cur = conn.cursor()\n",
    "\n",
    "df = pd.read_csv(\"ChicagoCensusData.csv\")\n",
    "df.to_sql(\"CENSUS_DATA\", con=conn, if_exists='replace', index=False, method=None)\n",
    "\n",
    "df_1 = pd.read_csv(\"ChicagoCrimeData.csv\")\n",
    "df_1.to_sql(\"CHICAGO_CRIME_DATA\", con=conn, if_exists='replace', index=False, method=None)\n",
    "\n",
    "df_2 = pd.read_csv(\"ChicagoPublicSchools.csv\")\n",
    "df_2.to_sql(\"CHICAGO_PUBLIC_SCHOOLS\", con=conn, if_exists='replace', index=False, method=None)\n",
    "\n",
    "conn.close()\n"
   ]
  },
  {
   "cell_type": "code",
   "execution_count": 15,
   "metadata": {},
   "outputs": [
    {
     "name": "stdout",
     "output_type": "stream",
     "text": [
      "The sql extension is already loaded. To reload it, use:\n",
      "  %reload_ext sql\n"
     ]
    },
    {
     "name": "stderr",
     "output_type": "stream",
     "text": [
      "UsageError: Line magic function `%tables` not found.\n"
     ]
    }
   ],
   "source": [
    "%load_ext sql\n",
    "\n",
    "%sql sqlite:///FinalDB.db\n",
    "    \n",
    "#%sql select * from CENSUS_DATA\n",
    "\n"
   ]
  },
  {
   "cell_type": "markdown",
   "metadata": {},
   "source": [
    "<font size = \"3\"> Retrieve the list of tables in the `SQLite` *database*."
   ]
  },
  {
   "cell_type": "code",
   "execution_count": 25,
   "metadata": {},
   "outputs": [
    {
     "name": "stdout",
     "output_type": "stream",
     "text": [
      " * sqlite:///FinalDB.db\n",
      "Done.\n"
     ]
    },
    {
     "data": {
      "text/html": [
       "<table>\n",
       "    <tr>\n",
       "        <th>type</th>\n",
       "        <th>name</th>\n",
       "        <th>tbl_name</th>\n",
       "        <th>rootpage</th>\n",
       "        <th>sql</th>\n",
       "    </tr>\n",
       "    <tr>\n",
       "        <td>table</td>\n",
       "        <td>CENSUS_DATA</td>\n",
       "        <td>CENSUS_DATA</td>\n",
       "        <td>2</td>\n",
       "        <td>CREATE TABLE &quot;CENSUS_DATA&quot; (<br>&quot;COMMUNITY_AREA_NUMBER&quot; REAL,<br>  &quot;COMMUNITY_AREA_NAME&quot; TEXT,<br>  &quot;PERCENT_OF_HOUSING_CROWDED&quot; REAL,<br>  &quot;PERCENT_HOUSEHOLDS_BELOW_POVERTY&quot; REAL,<br>  &quot;PERCENT_AGED_16__UNEMPLOYED&quot; REAL,<br>  &quot;PERCENT_AGED_25__WITHOUT_HIGH_SCHOOL_DIPLOMA&quot; REAL,<br>  &quot;PERCENT_AGED_UNDER_18_OR_OVER_64&quot; REAL,<br>  &quot;PER_CAPITA_INCOME&quot; INTEGER,<br>  &quot;HARDSHIP_INDEX&quot; REAL<br>)</td>\n",
       "    </tr>\n",
       "    <tr>\n",
       "        <td>table</td>\n",
       "        <td>CHICAGO_CRIME_DATA</td>\n",
       "        <td>CHICAGO_CRIME_DATA</td>\n",
       "        <td>5</td>\n",
       "        <td>CREATE TABLE &quot;CHICAGO_CRIME_DATA&quot; (<br>&quot;ID&quot; INTEGER,<br>  &quot;CASE_NUMBER&quot; TEXT,<br>  &quot;DATE&quot; TEXT,<br>  &quot;BLOCK&quot; TEXT,<br>  &quot;IUCR&quot; TEXT,<br>  &quot;PRIMARY_TYPE&quot; TEXT,<br>  &quot;DESCRIPTION&quot; TEXT,<br>  &quot;LOCATION_DESCRIPTION&quot; TEXT,<br>  &quot;ARREST&quot; INTEGER,<br>  &quot;DOMESTIC&quot; INTEGER,<br>  &quot;BEAT&quot; INTEGER,<br>  &quot;DISTRICT&quot; INTEGER,<br>  &quot;WARD&quot; REAL,<br>  &quot;COMMUNITY_AREA_NUMBER&quot; REAL,<br>  &quot;FBICODE&quot; TEXT,<br>  &quot;X_COORDINATE&quot; REAL,<br>  &quot;Y_COORDINATE&quot; REAL,<br>  &quot;YEAR&quot; INTEGER,<br>  &quot;LATITUDE&quot; REAL,<br>  &quot;LONGITUDE&quot; REAL,<br>  &quot;LOCATION&quot; TEXT<br>)</td>\n",
       "    </tr>\n",
       "    <tr>\n",
       "        <td>table</td>\n",
       "        <td>CHICAGO_PUBLIC_SCHOOLS</td>\n",
       "        <td>CHICAGO_PUBLIC_SCHOOLS</td>\n",
       "        <td>29</td>\n",
       "        <td>CREATE TABLE &quot;CHICAGO_PUBLIC_SCHOOLS&quot; (<br>&quot;School_ID&quot; INTEGER,<br>  &quot;NAME_OF_SCHOOL&quot; TEXT,<br>  &quot;Elementary, Middle, or High School&quot; TEXT,<br>  &quot;Street_Address&quot; TEXT,<br>  &quot;City&quot; TEXT,<br>  &quot;State&quot; TEXT,<br>  &quot;ZIP_Code&quot; INTEGER,<br>  &quot;Phone_Number&quot; TEXT,<br>  &quot;Link&quot; TEXT,<br>  &quot;Network_Manager&quot; TEXT,<br>  &quot;Collaborative_Name&quot; TEXT,<br>  &quot;Adequate_Yearly_Progress_Made_&quot; TEXT,<br>  &quot;Track_Schedule&quot; TEXT,<br>  &quot;CPS_Performance_Policy_Status&quot; TEXT,<br>  &quot;CPS_Performance_Policy_Level&quot; TEXT,<br>  &quot;HEALTHY_SCHOOL_CERTIFIED&quot; TEXT,<br>  &quot;Safety_Icon&quot; TEXT,<br>  &quot;SAFETY_SCORE&quot; REAL,<br>  &quot;Family_Involvement_Icon&quot; TEXT,<br>  &quot;Family_Involvement_Score&quot; TEXT,<br>  &quot;Environment_Icon&quot; TEXT,<br>  &quot;Environment_Score&quot; REAL,<br>  &quot;Instruction_Icon&quot; TEXT,<br>  &quot;Instruction_Score&quot; REAL,<br>  &quot;Leaders_Icon&quot; TEXT,<br>  &quot;Leaders_Score&quot; TEXT,<br>  &quot;Teachers_Icon&quot; TEXT,<br>  &quot;Teachers_Score&quot; TEXT,<br>  &quot;Parent_Engagement_Icon&quot; TEXT,<br>  &quot;Parent_Engagement_Score&quot; TEXT,<br>  &quot;Parent_Environment_Icon&quot; TEXT,<br>  &quot;Parent_Environment_Score&quot; TEXT,<br>  &quot;AVERAGE_STUDENT_ATTENDANCE&quot; TEXT,<br>  &quot;Rate_of_Misconducts__per_100_students_&quot; REAL,<br>  &quot;Average_Teacher_Attendance&quot; TEXT,<br>  &quot;Individualized_Education_Program_Compliance_Rate&quot; TEXT,<br>  &quot;Pk_2_Literacy__&quot; TEXT,<br>  &quot;Pk_2_Math__&quot; TEXT,<br>  &quot;Gr3_5_Grade_Level_Math__&quot; TEXT,<br>  &quot;Gr3_5_Grade_Level_Read__&quot; TEXT,<br>  &quot;Gr3_5_Keep_Pace_Read__&quot; TEXT,<br>  &quot;Gr3_5_Keep_Pace_Math__&quot; TEXT,<br>  &quot;Gr6_8_Grade_Level_Math__&quot; TEXT,<br>  &quot;Gr6_8_Grade_Level_Read__&quot; TEXT,<br>  &quot;Gr6_8_Keep_Pace_Math_&quot; TEXT,<br>  &quot;Gr6_8_Keep_Pace_Read__&quot; TEXT,<br>  &quot;Gr_8_Explore_Math__&quot; TEXT,<br>  &quot;Gr_8_Explore_Read__&quot; TEXT,<br>  &quot;ISAT_Exceeding_Math__&quot; REAL,<br>  &quot;ISAT_Exceeding_Reading__&quot; REAL,<br>  &quot;ISAT_Value_Add_Math&quot; REAL,<br>  &quot;ISAT_Value_Add_Read&quot; REAL,<br>  &quot;ISAT_Value_Add_Color_Math&quot; TEXT,<br>  &quot;ISAT_Value_Add_Color_Read&quot; TEXT,<br>  &quot;Students_Taking__Algebra__&quot; TEXT,<br>  &quot;Students_Passing__Algebra__&quot; TEXT,<br>  &quot;9th Grade EXPLORE (2009)&quot; TEXT,<br>  &quot;9th Grade EXPLORE (2010)&quot; TEXT,<br>  &quot;10th Grade PLAN (2009)&quot; TEXT,<br>  &quot;10th Grade PLAN (2010)&quot; TEXT,<br>  &quot;Net_Change_EXPLORE_and_PLAN&quot; TEXT,<br>  &quot;11th Grade Average ACT (2011)&quot; TEXT,<br>  &quot;Net_Change_PLAN_and_ACT&quot; TEXT,<br>  &quot;College_Eligibility__&quot; TEXT,<br>  &quot;Graduation_Rate__&quot; TEXT,<br>  &quot;College_Enrollment_Rate__&quot; TEXT,<br>  &quot;COLLEGE_ENROLLMENT&quot; INTEGER,<br>  &quot;General_Services_Route&quot; INTEGER,<br>  &quot;Freshman_on_Track_Rate__&quot; TEXT,<br>  &quot;X_COORDINATE&quot; REAL,<br>  &quot;Y_COORDINATE&quot; REAL,<br>  &quot;Latitude&quot; REAL,<br>  &quot;Longitude&quot; REAL,<br>  &quot;COMMUNITY_AREA_NUMBER&quot; INTEGER,<br>  &quot;COMMUNITY_AREA_NAME&quot; TEXT,<br>  &quot;Ward&quot; INTEGER,<br>  &quot;Police_District&quot; INTEGER,<br>  &quot;Location&quot; TEXT<br>)</td>\n",
       "    </tr>\n",
       "</table>"
      ],
      "text/plain": [
       "[('table', 'CENSUS_DATA', 'CENSUS_DATA', 2, 'CREATE TABLE \"CENSUS_DATA\" (\\n\"COMMUNITY_AREA_NUMBER\" REAL,\\n  \"COMMUNITY_AREA_NAME\" TEXT,\\n  \"PERCENT_OF_HOUSING_CROWDED\" REAL,\\n  \"PERCENT_HOUSEHOL ... (73 characters truncated) ... T_AGED_25__WITHOUT_HIGH_SCHOOL_DIPLOMA\" REAL,\\n  \"PERCENT_AGED_UNDER_18_OR_OVER_64\" REAL,\\n  \"PER_CAPITA_INCOME\" INTEGER,\\n  \"HARDSHIP_INDEX\" REAL\\n)'),\n",
       " ('table', 'CHICAGO_CRIME_DATA', 'CHICAGO_CRIME_DATA', 5, 'CREATE TABLE \"CHICAGO_CRIME_DATA\" (\\n\"ID\" INTEGER,\\n  \"CASE_NUMBER\" TEXT,\\n  \"DATE\" TEXT,\\n  \"BLOCK\" TEXT,\\n  \"IUCR\" TEXT,\\n  \"PRIMARY_TYPE\" TEXT,\\n  ... (187 characters truncated) ... \\n  \"FBICODE\" TEXT,\\n  \"X_COORDINATE\" REAL,\\n  \"Y_COORDINATE\" REAL,\\n  \"YEAR\" INTEGER,\\n  \"LATITUDE\" REAL,\\n  \"LONGITUDE\" REAL,\\n  \"LOCATION\" TEXT\\n)'),\n",
       " ('table', 'CHICAGO_PUBLIC_SCHOOLS', 'CHICAGO_PUBLIC_SCHOOLS', 29, 'CREATE TABLE \"CHICAGO_PUBLIC_SCHOOLS\" (\\n\"School_ID\" INTEGER,\\n  \"NAME_OF_SCHOOL\" TEXT,\\n  \"Elementary, Middle, or High School\" TEXT,\\n  \"Street_Addr ... (2217 characters truncated) ... tude\" REAL,\\n  \"COMMUNITY_AREA_NUMBER\" INTEGER,\\n  \"COMMUNITY_AREA_NAME\" TEXT,\\n  \"Ward\" INTEGER,\\n  \"Police_District\" INTEGER,\\n  \"Location\" TEXT\\n)')]"
      ]
     },
     "execution_count": 25,
     "metadata": {},
     "output_type": "execute_result"
    }
   ],
   "source": [
    "%%sql\n",
    "\n",
    "SELECT * FROM sqlite_master \n",
    "    WHERE type = 'table'\n"
   ]
  },
  {
   "cell_type": "markdown",
   "metadata": {},
   "source": [
    "**P1**: find the total number of crimes in the CRIME table."
   ]
  },
  {
   "cell_type": "code",
   "execution_count": 26,
   "metadata": {},
   "outputs": [
    {
     "name": "stdout",
     "output_type": "stream",
     "text": [
      " * sqlite:///FinalDB.db\n",
      "Done.\n"
     ]
    },
    {
     "data": {
      "text/html": [
       "<table>\n",
       "    <tr>\n",
       "        <th>total_num_crime</th>\n",
       "    </tr>\n",
       "    <tr>\n",
       "        <td>533</td>\n",
       "    </tr>\n",
       "</table>"
      ],
      "text/plain": [
       "[(533,)]"
      ]
     },
     "execution_count": 26,
     "metadata": {},
     "output_type": "execute_result"
    }
   ],
   "source": [
    "%%sql\n",
    "\n",
    "SELECT COUNT(*) as total_num_crime FROM CHICAGO_CRIME_DATA;"
   ]
  },
  {
   "cell_type": "markdown",
   "metadata": {},
   "source": [
    "**P2**: list community areas with **per capita** income less than 11000."
   ]
  },
  {
   "cell_type": "code",
   "execution_count": 27,
   "metadata": {},
   "outputs": [
    {
     "name": "stdout",
     "output_type": "stream",
     "text": [
      " * sqlite:///FinalDB.db\n",
      "Done.\n"
     ]
    },
    {
     "data": {
      "text/html": [
       "<table>\n",
       "    <tr>\n",
       "        <th>COMMUNITY_AREA_NAME</th>\n",
       "        <th>PER_CAPITA_INCOME</th>\n",
       "    </tr>\n",
       "    <tr>\n",
       "        <td>West Garfield Park</td>\n",
       "        <td>10934</td>\n",
       "    </tr>\n",
       "    <tr>\n",
       "        <td>South Lawndale</td>\n",
       "        <td>10402</td>\n",
       "    </tr>\n",
       "    <tr>\n",
       "        <td>Fuller Park</td>\n",
       "        <td>10432</td>\n",
       "    </tr>\n",
       "    <tr>\n",
       "        <td>Riverdale</td>\n",
       "        <td>8201</td>\n",
       "    </tr>\n",
       "</table>"
      ],
      "text/plain": [
       "[('West Garfield Park', 10934),\n",
       " ('South Lawndale', 10402),\n",
       " ('Fuller Park', 10432),\n",
       " ('Riverdale', 8201)]"
      ]
     },
     "execution_count": 27,
     "metadata": {},
     "output_type": "execute_result"
    }
   ],
   "source": [
    "%%sql \n",
    "\n",
    "SELECT community_area_name, per_capita_income FROM CENSUS_DATA\n",
    "    WHERE per_capita_income < 11000;"
   ]
  },
  {
   "cell_type": "markdown",
   "metadata": {},
   "source": [
    "**P3**: list all case numbers for crimes *involving minors*."
   ]
  },
  {
   "cell_type": "code",
   "execution_count": 28,
   "metadata": {},
   "outputs": [
    {
     "name": "stdout",
     "output_type": "stream",
     "text": [
      " * sqlite:///FinalDB.db\n",
      "Done.\n"
     ]
    },
    {
     "data": {
      "text/html": [
       "<table>\n",
       "    <tr>\n",
       "        <th>CASE_NUMBER</th>\n",
       "        <th>DESCRIPTION</th>\n",
       "    </tr>\n",
       "    <tr>\n",
       "        <td>HL266884</td>\n",
       "        <td>SELL/GIVE/DEL LIQUOR TO MINOR</td>\n",
       "    </tr>\n",
       "    <tr>\n",
       "        <td>HK238408</td>\n",
       "        <td>ILLEGAL CONSUMPTION BY MINOR</td>\n",
       "    </tr>\n",
       "</table>"
      ],
      "text/plain": [
       "[('HL266884', 'SELL/GIVE/DEL LIQUOR TO MINOR'),\n",
       " ('HK238408', 'ILLEGAL CONSUMPTION BY MINOR')]"
      ]
     },
     "execution_count": 28,
     "metadata": {},
     "output_type": "execute_result"
    }
   ],
   "source": [
    "%%sql \n",
    "\n",
    "SELECT case_number, DESCRIPTION FROM CHICAGO_CRIME_DATA\n",
    "\n",
    "    WHERE DESCRIPTION LIKE '%MINOR%';"
   ]
  },
  {
   "cell_type": "markdown",
   "metadata": {},
   "source": [
    "**P4**: list all kidnapping crimes involving a child."
   ]
  },
  {
   "cell_type": "code",
   "execution_count": 29,
   "metadata": {},
   "outputs": [
    {
     "name": "stdout",
     "output_type": "stream",
     "text": [
      " * sqlite:///FinalDB.db\n",
      "Done.\n"
     ]
    },
    {
     "data": {
      "text/html": [
       "<table>\n",
       "    <tr>\n",
       "        <th>CASE_NUMBER</th>\n",
       "        <th>PRIMARY_TYPE</th>\n",
       "        <th>DESCRIPTION</th>\n",
       "    </tr>\n",
       "    <tr>\n",
       "        <td>HN144152</td>\n",
       "        <td>KIDNAPPING</td>\n",
       "        <td>CHILD ABDUCTION/STRANGER</td>\n",
       "    </tr>\n",
       "</table>"
      ],
      "text/plain": [
       "[('HN144152', 'KIDNAPPING', 'CHILD ABDUCTION/STRANGER')]"
      ]
     },
     "execution_count": 29,
     "metadata": {},
     "output_type": "execute_result"
    }
   ],
   "source": [
    "%%sql\n",
    "\n",
    "SELECT CASE_NUMBER, PRIMARY_TYPE, DESCRIPTION \n",
    "    FROM CHICAGO_CRIME_DATA\n",
    "        WHERE PRIMARY_TYPE LIKE 'KIDNAPPING';\n"
   ]
  },
  {
   "cell_type": "markdown",
   "metadata": {},
   "source": [
    "**P5**: what kind of crimes were recorded at *schools*."
   ]
  },
  {
   "cell_type": "code",
   "execution_count": 33,
   "metadata": {},
   "outputs": [
    {
     "name": "stdout",
     "output_type": "stream",
     "text": [
      " * sqlite:///FinalDB.db\n",
      "Done.\n"
     ]
    },
    {
     "data": {
      "text/html": [
       "<table>\n",
       "    <tr>\n",
       "        <th>PRIMARY_TYPE</th>\n",
       "    </tr>\n",
       "    <tr>\n",
       "        <td>ASSAULT</td>\n",
       "    </tr>\n",
       "    <tr>\n",
       "        <td>BATTERY</td>\n",
       "    </tr>\n",
       "    <tr>\n",
       "        <td>CRIMINAL DAMAGE</td>\n",
       "    </tr>\n",
       "    <tr>\n",
       "        <td>CRIMINAL TRESPASS</td>\n",
       "    </tr>\n",
       "    <tr>\n",
       "        <td>NARCOTICS</td>\n",
       "    </tr>\n",
       "    <tr>\n",
       "        <td>PUBLIC PEACE VIOLATION</td>\n",
       "    </tr>\n",
       "</table>"
      ],
      "text/plain": [
       "[('ASSAULT',),\n",
       " ('BATTERY',),\n",
       " ('CRIMINAL DAMAGE',),\n",
       " ('CRIMINAL TRESPASS',),\n",
       " ('NARCOTICS',),\n",
       " ('PUBLIC PEACE VIOLATION',)]"
      ]
     },
     "execution_count": 33,
     "metadata": {},
     "output_type": "execute_result"
    }
   ],
   "source": [
    "%%sql\n",
    "\n",
    "SELECT DISTINCT PRIMARY_TYPE FROM CHICAGO_CRIME_DATA\n",
    "    WHERE LOCATION_DESCRIPTION LIKE '%SCHOOL%'\n",
    "        ORDER BY PRIMARY_TYPE;"
   ]
  },
  {
   "cell_type": "markdown",
   "metadata": {},
   "source": [
    "**P6**: list the *average safety score* for all types of schools"
   ]
  },
  {
   "cell_type": "code",
   "execution_count": 35,
   "metadata": {},
   "outputs": [
    {
     "name": "stdout",
     "output_type": "stream",
     "text": [
      " * sqlite:///FinalDB.db\n",
      "Done.\n"
     ]
    },
    {
     "data": {
      "text/html": [
       "<table>\n",
       "    <tr>\n",
       "        <th>Elementary, Middle, or High School</th>\n",
       "        <th>AVG_SAFETY_ASCORE</th>\n",
       "    </tr>\n",
       "    <tr>\n",
       "        <td>ES</td>\n",
       "        <td>49.52038369304557</td>\n",
       "    </tr>\n",
       "    <tr>\n",
       "        <td>HS</td>\n",
       "        <td>49.62352941176471</td>\n",
       "    </tr>\n",
       "    <tr>\n",
       "        <td>MS</td>\n",
       "        <td>48.0</td>\n",
       "    </tr>\n",
       "</table>"
      ],
      "text/plain": [
       "[('ES', 49.52038369304557), ('HS', 49.62352941176471), ('MS', 48.0)]"
      ]
     },
     "execution_count": 35,
     "metadata": {},
     "output_type": "execute_result"
    }
   ],
   "source": [
    "%%sql\n",
    "\n",
    "SELECT \"Elementary, Middle, or High School\", AVG(SAFETY_SCORE) AS AVG_SAFETY_ASCORE\n",
    "    FROM CHICAGO_PUBLIC_SCHOOLS\n",
    "    GROUP BY \"Elementary, Middle, or High School\""
   ]
  },
  {
   "cell_type": "markdown",
   "metadata": {},
   "source": [
    "**P7**: list 5 community areas wiht highest % of households *below poverty*."
   ]
  },
  {
   "cell_type": "code",
   "execution_count": 36,
   "metadata": {},
   "outputs": [
    {
     "name": "stdout",
     "output_type": "stream",
     "text": [
      " * sqlite:///FinalDB.db\n",
      "Done.\n"
     ]
    },
    {
     "data": {
      "text/html": [
       "<table>\n",
       "    <tr>\n",
       "        <th>COMMUNITY_AREA_NAME</th>\n",
       "        <th>PERCENT_HOUSEHOLDS_BELOW_POVERTY</th>\n",
       "    </tr>\n",
       "    <tr>\n",
       "        <td>Riverdale</td>\n",
       "        <td>56.5</td>\n",
       "    </tr>\n",
       "    <tr>\n",
       "        <td>Fuller Park</td>\n",
       "        <td>51.2</td>\n",
       "    </tr>\n",
       "    <tr>\n",
       "        <td>Englewood</td>\n",
       "        <td>46.6</td>\n",
       "    </tr>\n",
       "    <tr>\n",
       "        <td>North Lawndale</td>\n",
       "        <td>43.1</td>\n",
       "    </tr>\n",
       "    <tr>\n",
       "        <td>East Garfield Park</td>\n",
       "        <td>42.4</td>\n",
       "    </tr>\n",
       "</table>"
      ],
      "text/plain": [
       "[('Riverdale', 56.5),\n",
       " ('Fuller Park', 51.2),\n",
       " ('Englewood', 46.6),\n",
       " ('North Lawndale', 43.1),\n",
       " ('East Garfield Park', 42.4)]"
      ]
     },
     "execution_count": 36,
     "metadata": {},
     "output_type": "execute_result"
    }
   ],
   "source": [
    "%%sql\n",
    "\n",
    "SELECT COMMUNITY_AREA_NAME, PERCENT_HOUSEHOLDS_BELOW_POVERTY\n",
    "    FROM CENSUS_DATA\n",
    "        ORDER BY PERCENT_HOUSEHOLDS_BELOW_POVERTY DESC\n",
    "            LIMIT 5;"
   ]
  },
  {
   "cell_type": "markdown",
   "metadata": {},
   "source": [
    "**P8**: which community area(number) is most crime prone?"
   ]
  },
  {
   "cell_type": "code",
   "execution_count": 42,
   "metadata": {},
   "outputs": [
    {
     "name": "stdout",
     "output_type": "stream",
     "text": [
      " * sqlite:///FinalDB.db\n",
      "0 rows affected.\n",
      "Done.\n"
     ]
    },
    {
     "data": {
      "text/html": [
       "<table>\n",
       "    <tr>\n",
       "        <th>COMMUNITY_AREA_NUMBER</th>\n",
       "        <th>TOTAL_CRIME_NUM</th>\n",
       "    </tr>\n",
       "    <tr>\n",
       "        <td>25.0</td>\n",
       "        <td>43</td>\n",
       "    </tr>\n",
       "</table>"
      ],
      "text/plain": [
       "[(25.0, 43)]"
      ]
     },
     "execution_count": 42,
     "metadata": {},
     "output_type": "execute_result"
    }
   ],
   "source": [
    "%%sql \n",
    "\n",
    "DELETE FROM CHICAGO_CRIME_DATA\n",
    "    WHERE COMMUNITY_AREA_NUMBER IS NULL;\n",
    "\n",
    "SELECT COMMUNITY_AREA_NUMBER, COUNT(*) as TOTAL_CRIME_NUM \n",
    "    FROM CHICAGO_CRIME_DATA\n",
    "        GROUP BY COMMUNITY_AREA_NUMBER\n",
    "            ORDER BY TOTAL_CRIME_NUM DESC LIMIT 1;"
   ]
  },
  {
   "cell_type": "markdown",
   "metadata": {},
   "source": [
    "**P9**: use a `sub_query` to find the name of the community area with highest *hardship index*."
   ]
  },
  {
   "cell_type": "code",
   "execution_count": 43,
   "metadata": {},
   "outputs": [
    {
     "name": "stdout",
     "output_type": "stream",
     "text": [
      " * sqlite:///FinalDB.db\n",
      "Done.\n"
     ]
    },
    {
     "data": {
      "text/html": [
       "<table>\n",
       "    <tr>\n",
       "        <th>COMMUNITY_AREA_NAME</th>\n",
       "        <th>HARDSHIP_INDEX</th>\n",
       "    </tr>\n",
       "    <tr>\n",
       "        <td>Riverdale</td>\n",
       "        <td>98.0</td>\n",
       "    </tr>\n",
       "</table>"
      ],
      "text/plain": [
       "[('Riverdale', 98.0)]"
      ]
     },
     "execution_count": 43,
     "metadata": {},
     "output_type": "execute_result"
    }
   ],
   "source": [
    "%%sql\n",
    "\n",
    "SELECT COMMUNITY_AREA_NAME, HARDSHIP_INDEX \n",
    "    FROM CENSUS_DATA\n",
    "        WHERE HARDSHIP_INDEX = \n",
    "            (select max(HARDSHIP_INDEX) from CENSUS_DATA);"
   ]
  },
  {
   "cell_type": "markdown",
   "metadata": {},
   "source": [
    "**P10**: use a `sub_query` to determine the community area name with most number of crimes."
   ]
  },
  {
   "cell_type": "code",
   "execution_count": 44,
   "metadata": {},
   "outputs": [
    {
     "name": "stdout",
     "output_type": "stream",
     "text": [
      " * sqlite:///FinalDB.db\n",
      "Done.\n"
     ]
    },
    {
     "data": {
      "text/html": [
       "<table>\n",
       "    <tr>\n",
       "        <th>COMMUNITY_AREA_NAME</th>\n",
       "    </tr>\n",
       "    <tr>\n",
       "        <td>Austin</td>\n",
       "    </tr>\n",
       "</table>"
      ],
      "text/plain": [
       "[('Austin',)]"
      ]
     },
     "execution_count": 44,
     "metadata": {},
     "output_type": "execute_result"
    }
   ],
   "source": [
    "%%sql \n",
    "\n",
    "SELECT COMMUNITY_AREA_NAME\n",
    "    FROM CENSUS_DATA\n",
    "        WHERE COMMUNITY_AREA_NUMBER =\n",
    "            (select community_area_number\n",
    "                from CHICAGO_CRIME_DATA\n",
    "                    group by community_area_number\n",
    "                        order by count(community_area_number) DESC LIMIT 1);"
   ]
  }
 ],
 "metadata": {
  "kernelspec": {
   "display_name": "Python 3",
   "language": "python",
   "name": "python3"
  },
  "language_info": {
   "codemirror_mode": {
    "name": "ipython",
    "version": 3
   },
   "file_extension": ".py",
   "mimetype": "text/x-python",
   "name": "python",
   "nbconvert_exporter": "python",
   "pygments_lexer": "ipython3",
   "version": "3.7.6"
  }
 },
 "nbformat": 4,
 "nbformat_minor": 4
}
